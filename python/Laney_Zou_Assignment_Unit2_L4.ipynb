{
  "nbformat": 4,
  "nbformat_minor": 0,
  "metadata": {
    "colab": {
      "name": "Laney_Zou_Assignment_Unit2_L4.ipynb",
      "provenance": [],
      "authorship_tag": "ABX9TyMaoM+NT1tr+GEHuf+UP2Vm",
      "include_colab_link": true
    },
    "kernelspec": {
      "name": "python3",
      "display_name": "Python 3"
    },
    "language_info": {
      "name": "python"
    }
  },
  "cells": [
    {
      "cell_type": "markdown",
      "metadata": {
        "id": "view-in-github",
        "colab_type": "text"
      },
      "source": [
        "<a href=\"https://colab.research.google.com/github/Laney7/Micro-Credential/blob/main/python/Laney_Zou_Assignment_Unit2_L4.ipynb\" target=\"_parent\"><img src=\"https://colab.research.google.com/assets/colab-badge.svg\" alt=\"Open In Colab\"/></a>"
      ]
    },
    {
      "cell_type": "code",
      "execution_count": null,
      "metadata": {
        "colab": {
          "base_uri": "https://localhost:8080/"
        },
        "id": "k9-B3BrQ9kA9",
        "outputId": "e49f2845-5b04-42b3-8ec8-f7393792e3f9"
      },
      "outputs": [
        {
          "output_type": "stream",
          "name": "stdout",
          "text": [
            "['a', 'e', 'i', 'o', 'u']\n"
          ]
        }
      ],
      "source": [
        "#1. Create a list that holds 5 data variables. \n",
        "\n",
        "vowels = [\"a\", \"e\", \"i\", \"o\", \"u\"]\n",
        "print(vowels)"
      ]
    },
    {
      "cell_type": "code",
      "source": [
        "#2.Print out those variables by using a for loop.\n",
        "\n",
        "for l in vowels:\n",
        "  print(l)"
      ],
      "metadata": {
        "colab": {
          "base_uri": "https://localhost:8080/"
        },
        "id": "mWkiq0hL-KI3",
        "outputId": "2fd26215-baa8-45fb-bc26-45a7d150193f"
      },
      "execution_count": null,
      "outputs": [
        {
          "output_type": "stream",
          "name": "stdout",
          "text": [
            "a\n",
            "e\n",
            "i\n",
            "o\n",
            "u\n"
          ]
        }
      ]
    },
    {
      "cell_type": "code",
      "source": [
        "#3. Modify your for loop to add a message to your for loop.\n",
        "for l in vowels:\n",
        "  print(l.title() + \" is a vowel of the alphabet.\" )\n"
      ],
      "metadata": {
        "colab": {
          "base_uri": "https://localhost:8080/"
        },
        "id": "XEzUhRx8-S8L",
        "outputId": "f13873b0-ca9a-4669-e817-49791e884652"
      },
      "execution_count": null,
      "outputs": [
        {
          "output_type": "stream",
          "name": "stdout",
          "text": [
            "A is a vowel of the alphabet.\n",
            "E is a vowel of the alphabet.\n",
            "I is a vowel of the alphabet.\n",
            "O is a vowel of the alphabet.\n",
            "U is a vowel of the alphabet.\n"
          ]
        }
      ]
    },
    {
      "cell_type": "code",
      "source": [
        "#4. Use a for loop to print even numbers from 1-20.\n",
        "\n",
        "for num in range(2, 21, 2):\n",
        "  print(num)"
      ],
      "metadata": {
        "colab": {
          "base_uri": "https://localhost:8080/"
        },
        "id": "fuwdOXdK-v5V",
        "outputId": "9fe2ccba-29c0-4df7-ceac-c892379ce3c2"
      },
      "execution_count": null,
      "outputs": [
        {
          "output_type": "stream",
          "name": "stdout",
          "text": [
            "2\n",
            "4\n",
            "6\n",
            "8\n",
            "10\n",
            "12\n",
            "14\n",
            "16\n",
            "18\n",
            "20\n"
          ]
        }
      ]
    },
    {
      "cell_type": "code",
      "source": [
        "#5. Sort your list in alphabetic order.\n",
        "\n",
        "print(sorted(vowels))"
      ],
      "metadata": {
        "colab": {
          "base_uri": "https://localhost:8080/"
        },
        "id": "BHphx7v1-_8u",
        "outputId": "9cc1f122-4fd5-4cde-a32b-b0f39ff75100"
      },
      "execution_count": null,
      "outputs": [
        {
          "output_type": "stream",
          "name": "stdout",
          "text": [
            "['a', 'e', 'i', 'o', 'u']\n"
          ]
        }
      ]
    },
    {
      "cell_type": "code",
      "source": [
        "#6. Print out the first three elements of your list.\n",
        "\n",
        "print(vowels[0:3])"
      ],
      "metadata": {
        "colab": {
          "base_uri": "https://localhost:8080/"
        },
        "id": "i8I3JoWv_JMk",
        "outputId": "9aee9639-24ac-4138-df0f-9f8341a88cee"
      },
      "execution_count": null,
      "outputs": [
        {
          "output_type": "stream",
          "name": "stdout",
          "text": [
            "['a', 'e', 'i']\n"
          ]
        }
      ]
    },
    {
      "cell_type": "code",
      "source": [
        "#7. Create a loop to print the last 2 elements of your list.\n",
        "\n",
        "for num in vowels[-2:]:\n",
        "  print(num)"
      ],
      "metadata": {
        "colab": {
          "base_uri": "https://localhost:8080/"
        },
        "id": "qifXfV8C_T4q",
        "outputId": "64095754-e82c-45e1-93a6-eba2d0e05b96"
      },
      "execution_count": null,
      "outputs": [
        {
          "output_type": "stream",
          "name": "stdout",
          "text": [
            "o\n",
            "u\n"
          ]
        }
      ]
    }
  ]
}