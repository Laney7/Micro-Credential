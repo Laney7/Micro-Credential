{
  "nbformat": 4,
  "nbformat_minor": 0,
  "metadata": {
    "colab": {
      "name": "Laney_Zou_Mini_Project_Unit_2.ipynb",
      "provenance": [],
      "authorship_tag": "ABX9TyPm1AY+esJseFeehFikB0vV",
      "include_colab_link": true
    },
    "kernelspec": {
      "name": "python3",
      "display_name": "Python 3"
    },
    "language_info": {
      "name": "python"
    }
  },
  "cells": [
    {
      "cell_type": "markdown",
      "metadata": {
        "id": "view-in-github",
        "colab_type": "text"
      },
      "source": [
        "<a href=\"https://colab.research.google.com/github/Laney7/Micro-Credential/blob/main/python/Laney_Zou_Mini_Project_Unit_2.ipynb\" target=\"_parent\"><img src=\"https://colab.research.google.com/assets/colab-badge.svg\" alt=\"Open In Colab\"/></a>"
      ]
    },
    {
      "cell_type": "markdown",
      "source": [
        "Ask the user for a number. Depending on whether the number is even or odd, print out an\n",
        "appropriate message to the user. Hint: how does an even / odd number react differently\n",
        "when divided by 2?"
      ],
      "metadata": {
        "id": "K_uY2qJUni3i"
      }
    },
    {
      "cell_type": "code",
      "source": [
        "userInput = int(input('Please enter a number: '))\n",
        "num = userInput % 2\n",
        "if num ==0:\n",
        "  print('Even')\n",
        "else:\n",
        "  print(\"Odd\")\n",
        "      "
      ],
      "metadata": {
        "colab": {
          "base_uri": "https://localhost:8080/"
        },
        "id": "f8iDU_NOnl0r",
        "outputId": "078f6b5d-3796-41d6-ded0-4ca57d197545"
      },
      "execution_count": 4,
      "outputs": [
        {
          "output_type": "stream",
          "name": "stdout",
          "text": [
            "Please enter a number: 9\n",
            "Odd\n"
          ]
        }
      ]
    },
    {
      "cell_type": "markdown",
      "source": [
        "Bonus:\n",
        "\n",
        "If the number is a multiple of 4, print out a different message.\n",
        "\n",
        "Ask the user for two numbers: one number to check (call it num) and one number to divide\n",
        "by (check). If check divides evenly into num, tell that to the user. If not, print a different\n",
        "appropriate message.\n",
        "\n",
        "Write a custom function for finding whether the number is even or odd and call it in your\n",
        "main program code."
      ],
      "metadata": {
        "id": "HY0hkyB3pC4N"
      }
    },
    {
      "cell_type": "code",
      "source": [
        "userInput = int(input('Please enter a number: '))\n",
        "num = userInput % 4\n",
        "if num == 0:\n",
        "  print('This number is a multiple of 4.')\n",
        "else:\n",
        "  print(num, \"is not a multiple of 4.\")"
      ],
      "metadata": {
        "colab": {
          "base_uri": "https://localhost:8080/"
        },
        "id": "VaLVzGrrpIr1",
        "outputId": "47c33291-34cb-45c6-83cc-7ffca444ecca"
      },
      "execution_count": 5,
      "outputs": [
        {
          "output_type": "stream",
          "name": "stdout",
          "text": [
            "Please enter a number: 8\n",
            "This number is a multiple of 4.\n"
          ]
        }
      ]
    },
    {
      "cell_type": "code",
      "source": [
        "num = int(input('Please enter a number: '))\n",
        "check = int(input('Please enter another number: '))\n",
        "if num%check==0:\n",
        "  print(num, \"is divisible by\", check)\n",
        "else:\n",
        "  print(num, \"is not divisible by\", check)"
      ],
      "metadata": {
        "colab": {
          "base_uri": "https://localhost:8080/"
        },
        "id": "DOR4R7AUp-mp",
        "outputId": "c9cdacda-78ed-48d0-aa3f-e71999226d76"
      },
      "execution_count": 7,
      "outputs": [
        {
          "output_type": "stream",
          "name": "stdout",
          "text": [
            "Please enter a number: 9\n",
            "Please enter another number: 3\n",
            "9 is divisible by 3\n"
          ]
        }
      ]
    },
    {
      "cell_type": "code",
      "source": [
        ""
      ],
      "metadata": {
        "id": "hV7BzxBJsToh"
      },
      "execution_count": null,
      "outputs": []
    }
  ]
}