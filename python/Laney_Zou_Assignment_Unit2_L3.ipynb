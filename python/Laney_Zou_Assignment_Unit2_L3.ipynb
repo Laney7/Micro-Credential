{
  "nbformat": 4,
  "nbformat_minor": 0,
  "metadata": {
    "colab": {
      "name": "Laney_Zou_Assignment Unit2_L3.ipynb",
      "provenance": [],
      "authorship_tag": "ABX9TyP2wfwVxRT8yH1F0YbNLn5O",
      "include_colab_link": true
    },
    "kernelspec": {
      "name": "python3",
      "display_name": "Python 3"
    },
    "language_info": {
      "name": "python"
    }
  },
  "cells": [
    {
      "cell_type": "markdown",
      "metadata": {
        "id": "view-in-github",
        "colab_type": "text"
      },
      "source": [
        "<a href=\"https://colab.research.google.com/github/Laney7/Micro-Credential/blob/main/python/Laney_Zou_Assignment_Unit2_L3.ipynb\" target=\"_parent\"><img src=\"https://colab.research.google.com/assets/colab-badge.svg\" alt=\"Open In Colab\"/></a>"
      ]
    },
    {
      "cell_type": "code",
      "execution_count": null,
      "metadata": {
        "id": "4oxIhZQc6eBa"
      },
      "outputs": [],
      "source": [
        "#1. Create a list of 5 of your favorite tv shows.  \n",
        "\n",
        "tv_shows = [\"Planet Earth II\", \"Breaking Bad\", \"Planet Earth\" , \"Band of Brothers\", \"Chernobyl\"]\n"
      ]
    },
    {
      "cell_type": "code",
      "source": [
        "#2. Print the list in its original order.\n",
        "\n",
        "print(tv_shows)\n"
      ],
      "metadata": {
        "colab": {
          "base_uri": "https://localhost:8080/"
        },
        "id": "95mwyiQi7s8m",
        "outputId": "ae1f3c73-ee8c-46c8-9b2d-dea120beff8b"
      },
      "execution_count": null,
      "outputs": [
        {
          "output_type": "stream",
          "name": "stdout",
          "text": [
            "['Planet Earth II', 'Breaking Bad', 'Planet Earth', 'Band of Brothers', 'Chernobyl']\n"
          ]
        }
      ]
    },
    {
      "cell_type": "code",
      "source": [
        "#3. Use the sorted() function to print the list in alphabetical order.  How is sorted() different from sort()?\n",
        "\n",
        "print(sorted(tv_shows))"
      ],
      "metadata": {
        "colab": {
          "base_uri": "https://localhost:8080/"
        },
        "id": "nEG7o_mw73yk",
        "outputId": "d676b5a4-d755-41b8-e7b2-a4abf2800b79"
      },
      "execution_count": null,
      "outputs": [
        {
          "output_type": "stream",
          "name": "stdout",
          "text": [
            "['Band of Brothers', 'Breaking Bad', 'Chernobyl', 'Planet Earth', 'Planet Earth II']\n"
          ]
        }
      ]
    },
    {
      "cell_type": "code",
      "source": [
        "#4. Print out your original list.\n",
        "\n",
        "print(tv_shows)"
      ],
      "metadata": {
        "colab": {
          "base_uri": "https://localhost:8080/"
        },
        "id": "_VoLCZm-8HxY",
        "outputId": "4e8a8784-f496-401d-a0f1-adeb737f4bef"
      },
      "execution_count": null,
      "outputs": [
        {
          "output_type": "stream",
          "name": "stdout",
          "text": [
            "['Planet Earth II', 'Breaking Bad', 'Planet Earth', 'Band of Brothers', 'Chernobyl']\n"
          ]
        }
      ]
    },
    {
      "cell_type": "code",
      "source": [
        "#5. Used sorted() to print your list in reverse alphabetical order.\n",
        "\n",
        "print(sorted(tv_shows, reverse= True))"
      ],
      "metadata": {
        "colab": {
          "base_uri": "https://localhost:8080/"
        },
        "id": "pB1VW8Tr8ZDb",
        "outputId": "f013932a-5799-428d-acd1-7031100a4f63"
      },
      "execution_count": null,
      "outputs": [
        {
          "output_type": "stream",
          "name": "stdout",
          "text": [
            "['Planet Earth II', 'Planet Earth', 'Chernobyl', 'Breaking Bad', 'Band of Brothers']\n"
          ]
        }
      ]
    },
    {
      "cell_type": "code",
      "source": [
        "#6. Create a message indicating how many favorite TV shows you have – use the len() function.\n",
        "\n",
        "print(\"I have\", len(tv_shows), \"favorite TV shows.\")"
      ],
      "metadata": {
        "colab": {
          "base_uri": "https://localhost:8080/"
        },
        "id": "JfFaVsEt8yKz",
        "outputId": "a00061a1-987b-4365-dfea-efc9558c2f85"
      },
      "execution_count": null,
      "outputs": [
        {
          "output_type": "stream",
          "name": "stdout",
          "text": [
            "I have 5 favorite TV shows.\n"
          ]
        }
      ]
    }
  ]
}