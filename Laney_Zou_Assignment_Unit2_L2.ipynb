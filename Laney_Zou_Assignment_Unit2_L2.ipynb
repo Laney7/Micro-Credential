{
  "nbformat": 4,
  "nbformat_minor": 0,
  "metadata": {
    "colab": {
      "name": "Laney_Zou_Assignment Unit2_L2.ipynb",
      "provenance": [],
      "collapsed_sections": []
    },
    "kernelspec": {
      "name": "python3",
      "display_name": "Python 3"
    },
    "language_info": {
      "name": "python"
    }
  },
  "cells": [
    {
      "cell_type": "markdown",
      "source": [
        "1. What is Python and why is it useful?\n",
        "\n",
        "Python is such a stable, flexible, and simple programming language that is useful for building software and websites, automating tasks, and conducting data analysis.\n"
      ],
      "metadata": {
        "id": "APR2TpI0a2x6"
      }
    },
    {
      "cell_type": "markdown",
      "source": [
        ""
      ],
      "metadata": {
        "id": "ld0Z_m7Oa168"
      }
    },
    {
      "cell_type": "markdown",
      "source": [
        "2. Are the following variable names allowed in python?\n",
        "\n",
        "a. 1_message = No\n",
        "\n",
        "b. Greeting_message = Yes\n",
        "\n",
        "c. Message_1 = Yes\n",
        "\n",
        "d. First name = No\n",
        "\n",
        "e. Full_name = Yes\n"
      ],
      "metadata": {
        "id": "0wHnxfeCb5el"
      }
    },
    {
      "cell_type": "markdown",
      "source": [
        "3. Create a variable that holds the string “hello there!”\n"
      ],
      "metadata": {
        "id": "wXf3yBRBjF36"
      }
    },
    {
      "cell_type": "code",
      "source": [
        "h = \"hello there!\"\n",
        "print(h)"
      ],
      "metadata": {
        "colab": {
          "base_uri": "https://localhost:8080/"
        },
        "id": "b0df4siHjLA9",
        "outputId": "0c44bdd3-ced0-4093-f47c-175356b2e65f"
      },
      "execution_count": 2,
      "outputs": [
        {
          "output_type": "stream",
          "name": "stdout",
          "text": [
            "hello there!\n"
          ]
        }
      ]
    },
    {
      "cell_type": "markdown",
      "source": [
        "4. Create a variable for first name, last name and an email extension.  Concatenating all three together to form an email address.  For example: firstnamelastname@gmail.com"
      ],
      "metadata": {
        "id": "-WCiIuM6jjw9"
      }
    },
    {
      "cell_type": "code",
      "source": [
        "a = \"firstname\"\n",
        "b = \"lastname\"\n",
        "c = \"@gmail.com\"\n",
        "\n",
        "email = a + b + c\n",
        "\n",
        "print(email)"
      ],
      "metadata": {
        "colab": {
          "base_uri": "https://localhost:8080/"
        },
        "id": "-CHpnh3pjlWu",
        "outputId": "490e436c-050c-4d6c-bd55-88ed2326dd48"
      },
      "execution_count": 3,
      "outputs": [
        {
          "output_type": "stream",
          "name": "stdout",
          "text": [
            "firstnamelastname@gmail.com\n"
          ]
        }
      ]
    },
    {
      "cell_type": "markdown",
      "source": [
        "5. Store someone you know name in a variable called name.  Print their name in lower and uppercase using a method.\n"
      ],
      "metadata": {
        "id": "Ab3V5eFbj8hS"
      }
    },
    {
      "cell_type": "code",
      "source": [
        "name = \"Krystal\"\n",
        "print(name.upper())\n",
        "print(name.lower())"
      ],
      "metadata": {
        "colab": {
          "base_uri": "https://localhost:8080/"
        },
        "id": "bhx1YKTM3CvF",
        "outputId": "2acfa7d5-72f4-4147-d036-ed375762580a"
      },
      "execution_count": 4,
      "outputs": [
        {
          "output_type": "stream",
          "name": "stdout",
          "text": [
            "KRYSTAL\n",
            "krystal\n"
          ]
        }
      ]
    },
    {
      "cell_type": "markdown",
      "source": [
        "6. Using a variable, ask your friend if they want to hang out on the 15th of the month.  For example, “Do you want to hang out on the 15th of this month?”  You should have to convert the number to a string."
      ],
      "metadata": {
        "id": "yBhHkmbU3e9L"
      }
    },
    {
      "cell_type": "code",
      "source": [
        "p = \"Do you want to hang out on the \" + str(15) + \"th of this month?\" \n",
        "print(p)"
      ],
      "metadata": {
        "colab": {
          "base_uri": "https://localhost:8080/"
        },
        "id": "4nxUSspP3gwx",
        "outputId": "46b83d82-2eab-4c86-eab5-4b8c0e3efb62"
      },
      "execution_count": 16,
      "outputs": [
        {
          "output_type": "stream",
          "name": "stdout",
          "text": [
            "Do you want to hang out on the 15th of this month?\n"
          ]
        }
      ]
    },
    {
      "cell_type": "code",
      "source": [
        ""
      ],
      "metadata": {
        "id": "bOVB4-Zp37Cv"
      },
      "execution_count": null,
      "outputs": []
    }
  ]
}