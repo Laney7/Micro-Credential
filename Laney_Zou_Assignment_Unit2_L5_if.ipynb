{
  "nbformat": 4,
  "nbformat_minor": 0,
  "metadata": {
    "colab": {
      "name": "Laney_Zou_Assignment Unit2_L5_if.ipynb",
      "provenance": []
    },
    "kernelspec": {
      "name": "python3",
      "display_name": "Python 3"
    },
    "language_info": {
      "name": "python"
    }
  },
  "cells": [
    {
      "cell_type": "markdown",
      "source": [
        "1. Make a list of 5 or more usernames, including an admin account.  Imagine you are writing code that will welcome people to your application on login. Loop through the list and print your greeting.\n",
        "\n",
        "a. If the admin account logs in, give them a special greeting.  They’re the admin, after all!\n",
        "\n",
        "b. Other users can get the generic greeting\n"
      ],
      "metadata": {
        "id": "2OpuLxOvAEFz"
      }
    },
    {
      "cell_type": "code",
      "source": [
        "accounts = [\"admin\", \"JohnDoe1\", \"User2\" ,\"Rebecca23\", \"jsmith\"]\n",
        "for user in accounts:\n",
        "  if user == \"admin\":\n",
        "    print(\"Hello Admin! Emjoy your day!\")\n",
        "  else:\n",
        "    print(\"Hello \" + user + \"!\")"
      ],
      "metadata": {
        "colab": {
          "base_uri": "https://localhost:8080/"
        },
        "id": "yOKfkwKFAMym",
        "outputId": "9b59777c-8e78-4a46-8c5d-8e08991caff5"
      },
      "execution_count": 2,
      "outputs": [
        {
          "output_type": "stream",
          "name": "stdout",
          "text": [
            "Hello Admin! Emjoy your day!\n",
            "Hello JohnDoe1!\n",
            "Hello User2!\n",
            "Hello Rebecca23!\n",
            "Hello jsmith!\n"
          ]
        }
      ]
    },
    {
      "cell_type": "markdown",
      "source": [
        "2. Store numbers 1-10 in a list\n",
        "\n",
        "a. Loop through the list\n",
        "\n",
        "b. Use an if-elif-else chain inside your loop to print the ordinal ending for each number – for example – 1st, 2nd, 3rd … etc."
      ],
      "metadata": {
        "id": "NrmkQFBbBPFK"
      }
    },
    {
      "cell_type": "code",
      "source": [
        "number = list(range(1,11))\n",
        "for num in number:\n",
        "  if num == 1:\n",
        "    print(\"1st\")\n",
        "  elif num == 2:\n",
        "    print(\"2nd\")\n",
        "  elif num == 3:\n",
        "    print(\"3rd\")\n",
        "  else:\n",
        "    print(str(num) + \"th\")"
      ],
      "metadata": {
        "colab": {
          "base_uri": "https://localhost:8080/"
        },
        "id": "B4728x9tBaiL",
        "outputId": "839ea189-4c45-4cfb-bf8d-0520815a352a"
      },
      "execution_count": 5,
      "outputs": [
        {
          "output_type": "stream",
          "name": "stdout",
          "text": [
            "1st\n",
            "2nd\n",
            "3rd\n",
            "4th\n",
            "5th\n",
            "6th\n",
            "7th\n",
            "8th\n",
            "9th\n",
            "10th\n"
          ]
        }
      ]
    }
  ]
}